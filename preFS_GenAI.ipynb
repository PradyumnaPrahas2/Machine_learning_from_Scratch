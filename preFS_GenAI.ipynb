{
 "cells": [
  {
   "cell_type": "markdown",
   "id": "4f42bb4c",
   "metadata": {},
   "source": [
    "# ANN From Scratch"
   ]
  },
  {
   "cell_type": "code",
   "execution_count": 1,
   "id": "33b777ff",
   "metadata": {},
   "outputs": [],
   "source": [
    "from graphviz import Digraph\n",
    "from micrograd.engine import Value"
   ]
  },
  {
   "cell_type": "code",
   "execution_count": 2,
   "id": "732b22ba",
   "metadata": {},
   "outputs": [],
   "source": [
    "def trace(root):\n",
    "    nodes, edges = set(), set()\n",
    "    def build(v):\n",
    "        if v not in nodes:\n",
    "            nodes.add(v)\n",
    "            for child in v._prev:\n",
    "                edges.add((child, v))\n",
    "                build(child)\n",
    "    build(root)\n",
    "    return nodes, edges\n",
    "\n",
    "def draw_dot(root, format='svg', rankdir='LR'):\n",
    "    \"\"\"\n",
    "    format: png | svg | ...\n",
    "    rankdir: TB (top to bottom graph) | LR (left to right)\n",
    "    \"\"\"\n",
    "#     assert rankdir in ['LR', 'TB']\n",
    "    nodes, edges = trace(root)\n",
    "    dot = Digraph(format=format, graph_attr={'rankdir': rankdir}) #, node_attr={'rankdir': 'TB'})\n",
    "    \n",
    "    for n in nodes:\n",
    "        dot.node(name=str(id(n)), label = \"{ %s | data %.4f | grad %.4f }\" % (n.label,n.data,n.grad), shape='record')\n",
    "        if n._op:\n",
    "            dot.node(name=str(id(n)) + n._op, label=n._op)\n",
    "            dot.edge(str(id(n)) + n._op, str(id(n)))\n",
    "    \n",
    "    for n1, n2 in edges:\n",
    "        dot.edge(str(id(n1)), str(id(n2)) + n2._op)\n",
    "    \n",
    "    return dot"
   ]
  },
  {
   "cell_type": "code",
   "execution_count": 3,
   "id": "77adb5af",
   "metadata": {},
   "outputs": [],
   "source": [
    "import numpy as np"
   ]
  },
  {
   "cell_type": "code",
   "execution_count": 1,
   "id": "0a2eb68c",
   "metadata": {},
   "outputs": [],
   "source": [
    "class Value:\n",
    "    def __init__(self, data, _children=(), _op='', label=''):\n",
    "        self.data = data\n",
    "        self.grad = 0.0\n",
    "        self._backward = lambda : None\n",
    "        self._prev = set(_children)\n",
    "        self._op = _op\n",
    "        self.label = label\n",
    "\n",
    "    def __repr__(self):\n",
    "        return f\"Value(label={self.label} data={self.data})\"\n",
    "\n",
    "    def __add__(self, other):\n",
    "        other = other if isinstance(other, Value) else Value(other)\n",
    "        out = Value(self.data + other.data, (self, other), '+')\n",
    "        def _backward():\n",
    "            self.grad += 1.0 * out.grad\n",
    "            other.grad += 1.0 * out.grad \n",
    "        out._backward = _backward\n",
    "        return out\n",
    "    \n",
    "    def __radd__(self, other): \n",
    "        return self + other\n",
    "        \n",
    "    def __mul__(self, other):\n",
    "        other = other if isinstance(other, Value) else Value(other)\n",
    "        out = Value(self.data * other.data, (self, other), '*')\n",
    "        def _backward():\n",
    "            self.grad += other.data * out.grad \n",
    "            other.grad += self.data * out.grad \n",
    "        out._backward = _backward\n",
    "        return out\n",
    "    \n",
    "    def __rmul__(self, other): \n",
    "        return self * other\n",
    "    \n",
    "    def __pow__(self, other):\n",
    "        assert isinstance(other, (int, float)), \"only supporting int/float powers for now\"\n",
    "        out = Value(self.data ** other, (self,), f'**{other}')\n",
    "        \n",
    "        def _backward():\n",
    "            self.grad += other * (self.data ** (other - 1)) * out.grad\n",
    "        out._backward = _backward\n",
    "        \n",
    "        return out\n",
    "        \n",
    "    \n",
    "    def exp(self):\n",
    "        x = self.data\n",
    "        out = Value(math.exp(x), (self,), 'exp')\n",
    "        \n",
    "        def _backward():\n",
    "            self.grad += out.data * out.grad\n",
    "        out._backward = _backward\n",
    "        return out\n",
    "    \n",
    "    def __truediv__(self, other): \n",
    "        return self * other**-1\n",
    "    \n",
    "    def tanh(self):\n",
    "        x = self.data\n",
    "        t = (math.exp(2*x) - 1)/(math.exp(2*x) + 1)\n",
    "        out = Value(t, (self,), 'tanh')\n",
    "        \n",
    "        def _backward():\n",
    "            self.grad += (1 - t**2) * out.grad \n",
    "        out._backward = _backward\n",
    "        return out\n",
    "\n",
    "    def __neg__(self): \n",
    "        return -self\n",
    "    \n",
    "    def __sub__(self, other): \n",
    "        return self + (-other)\n",
    "        \n",
    "    def backward(self):\n",
    "        topo = []\n",
    "        visited = set()\n",
    "        def build_topo(v):\n",
    "            if v not in visited:\n",
    "                visited.add(v)\n",
    "                for child in v._prev:\n",
    "                    build_topo(child)\n",
    "                topo.append(v)\n",
    "        build_topo(self)\n",
    "        \n",
    "        self.grad = 1.0\n",
    "        for node in reversed(topo):\n",
    "            node._backward()"
   ]
  },
  {
   "cell_type": "code",
   "execution_count": 9,
   "id": "edbd6fc5",
   "metadata": {},
   "outputs": [],
   "source": [
    "import torch"
   ]
  },
  {
   "cell_type": "code",
   "execution_count": 10,
   "id": "fe25b172",
   "metadata": {},
   "outputs": [
    {
     "name": "stdout",
     "output_type": "stream",
     "text": [
      "0.7071066904050358\n",
      "-----\n",
      "x2 0.5000001283844369\n",
      "w2 0.0\n",
      "x1 -1.5000003851533106\n",
      "w1 1.0000002567688737\n"
     ]
    }
   ],
   "source": [
    "x1 = torch.Tensor([2.0]).double(); x1.requires_grad = True\n",
    "x2 = torch.Tensor([0.0]).double(); x2.requires_grad = True\n",
    "w1 = torch.Tensor([-3.0]).double(); w1.requires_grad = True\n",
    "w2 = torch.Tensor([1.0]).double(); w2.requires_grad = True\n",
    "b = torch.Tensor([6.8813735870195432]); b.requires_grad = True\n",
    "n = x1*w1 + x2*w2 + b\n",
    "o = torch.tanh(n)\n",
    "\n",
    "print(o.data.item())\n",
    "o.backward()\n",
    "\n",
    "print('-----')\n",
    "print('x2', x2.grad.item())\n",
    "print('w2', w2.grad.item())\n",
    "print('x1', x1.grad.item())\n",
    "print('w1', w1.grad.item())"
   ]
  },
  {
   "cell_type": "code",
   "execution_count": 2,
   "id": "2279d18d",
   "metadata": {},
   "outputs": [],
   "source": [
    "import random,math"
   ]
  },
  {
   "cell_type": "code",
   "execution_count": 47,
   "id": "ddbe25be",
   "metadata": {},
   "outputs": [
    {
     "data": {
      "text/plain": [
       "Value(label= data=0.9999092042625951)"
      ]
     },
     "execution_count": 47,
     "metadata": {},
     "output_type": "execute_result"
    }
   ],
   "source": [
    "class Neuron:\n",
    "    def __init__(self, nin):\n",
    "        self.w = [Value(random.randint(-1,1)) for _ in range(nin)]\n",
    "        self.b = Value(random.randint(-1,1))\n",
    "    \n",
    "    def __call__(self, x):\n",
    "        act =  sum((wi*xi for wi, xi in zip(self.w, x)), self.b)\n",
    "        return act.tanh()\n",
    "\n",
    "    def parameters(self):\n",
    "        return self.w + [self.b]\n",
    "    \n",
    "x = [2.0, 3.0]\n",
    "n = Neuron(2)\n",
    "n(x)"
   ]
  },
  {
   "cell_type": "code",
   "execution_count": 48,
   "id": "192b2cde",
   "metadata": {},
   "outputs": [],
   "source": [
    "class Layer:\n",
    "    def __init__(self, nin, nout):\n",
    "        self.neurons = [Neuron(nin) for _ in range(nout)]\n",
    "    \n",
    "    def __call__(self, x):\n",
    "        outs = [n(x) for n in self.neurons]\n",
    "        return outs[0] if len(outs) == 1 else outs\n",
    "    \n",
    "    def parameters(self):\n",
    "        return [p for neuron in self.neurons for p in neuron.parameters()]"
   ]
  },
  {
   "cell_type": "code",
   "execution_count": 49,
   "id": "350954d1",
   "metadata": {},
   "outputs": [],
   "source": [
    "class MLP:\n",
    "    def __init__(self, nin, nouts):\n",
    "        sz = [nin] + nouts\n",
    "        self.layers = [Layer(sz[i], sz[i+1]) for i in range(len(nouts))]\n",
    "        \n",
    "    def __call__(self, x):\n",
    "        for layer in self.layers:\n",
    "            x = layer(x)\n",
    "        return x\n",
    "    \n",
    "    def parameters(self):\n",
    "        return [p for layer in self.layers for p in layer.parameters()]"
   ]
  },
  {
   "cell_type": "code",
   "execution_count": 50,
   "id": "76724e41",
   "metadata": {},
   "outputs": [],
   "source": [
    "mlp = MLP(3,[10,5,2,1])"
   ]
  },
  {
   "cell_type": "code",
   "execution_count": 51,
   "id": "e6797e6d",
   "metadata": {},
   "outputs": [],
   "source": [
    "def train(epochs, model, xs, ygt):\n",
    "    \n",
    "    for k in range(epochs):\n",
    "\n",
    "        ypred = [model(x) for x in xs]\n",
    "        loss = sum((yout - ygt)**2 for ygt, yout in zip(ygt, ypred))\n",
    "        \n",
    "        for p in model.parameters(): p.grad = 0.0 \n",
    "    \n",
    "        loss.backward()\n",
    "\n",
    "        for p in model.parameters(): p.data += -0.01 * p.grad\n",
    "        if(k%100==0):\n",
    "            print(\"Epoch:- \",k,\" , Loss:- \",loss.data)\n",
    "    return ypred"
   ]
  },
  {
   "cell_type": "code",
   "execution_count": 52,
   "id": "a74ff734",
   "metadata": {},
   "outputs": [],
   "source": [
    "xs = [\n",
    "    [2.0, 3.0, -1.0],\n",
    "    [3.0, -1.0, 0.5],\n",
    "    [0.5, 1.0, 1.0], \n",
    "    [1.0, 1.0, -1.0]\n",
    "]\n",
    "ys = [1.0, -1.0, -1.0, 1.0]"
   ]
  },
  {
   "cell_type": "code",
   "execution_count": 53,
   "id": "fa9399e5",
   "metadata": {},
   "outputs": [
    {
     "name": "stdout",
     "output_type": "stream",
     "text": [
      "Epoch:-  0  , Loss:-  7.94353948634501\n",
      "Epoch:-  100  , Loss:-  7.8378306175857295\n",
      "Epoch:-  200  , Loss:-  0.33377841447760764\n",
      "Epoch:-  300  , Loss:-  0.06232099530939418\n",
      "Epoch:-  400  , Loss:-  0.03309082314175003\n",
      "Epoch:-  500  , Loss:-  0.022332407842524996\n",
      "Epoch:-  600  , Loss:-  0.016793148813542182\n",
      "Epoch:-  700  , Loss:-  0.013430512461805072\n",
      "Epoch:-  800  , Loss:-  0.011177332561939353\n",
      "Epoch:-  900  , Loss:-  0.009564539210702085\n"
     ]
    }
   ],
   "source": [
    "y_pred=train(1000, mlp, xs, ys)"
   ]
  },
  {
   "cell_type": "code",
   "execution_count": 54,
   "id": "5cec411c",
   "metadata": {},
   "outputs": [
    {
     "name": "stdout",
     "output_type": "stream",
     "text": [
      "Predictions :-  [Value(label= data=0.9575549071474925), Value(label= data=-0.955993709975816), Value(label= data=-0.9529617052558506), Value(label= data=0.9508666740944983)]\n"
     ]
    }
   ],
   "source": [
    "print(\"Predictions :- \",y_pred)"
   ]
  },
  {
   "cell_type": "code",
   "execution_count": 55,
   "id": "8bd12a11",
   "metadata": {},
   "outputs": [],
   "source": [
    "### MLP on iris dataset (Binary Classification)"
   ]
  },
  {
   "cell_type": "code",
   "execution_count": 56,
   "id": "2b4a1a58",
   "metadata": {},
   "outputs": [],
   "source": [
    "from sklearn.datasets import load_iris"
   ]
  },
  {
   "cell_type": "code",
   "execution_count": 57,
   "id": "e905ac63",
   "metadata": {},
   "outputs": [],
   "source": [
    "iris=load_iris()"
   ]
  },
  {
   "cell_type": "code",
   "execution_count": 58,
   "id": "212896b7",
   "metadata": {},
   "outputs": [],
   "source": [
    "from sklearn.model_selection import train_test_split"
   ]
  },
  {
   "cell_type": "code",
   "execution_count": 66,
   "id": "6ffe21e7",
   "metadata": {},
   "outputs": [],
   "source": [
    "X=iris.data\n",
    "Y=iris.target\n",
    "mask = Y < 2  # Include only Setosa (0) and Versicolor (1)\n",
    "X = X[mask]\n",
    "Y = Y[mask]"
   ]
  },
  {
   "cell_type": "code",
   "execution_count": 67,
   "id": "05dbcc50",
   "metadata": {},
   "outputs": [],
   "source": [
    "X_train,X_test,y_train,y_test=train_test_split(X,Y,random_state=42,test_size=0.7)"
   ]
  },
  {
   "cell_type": "code",
   "execution_count": 68,
   "id": "7d7485af",
   "metadata": {},
   "outputs": [
    {
     "data": {
      "text/plain": [
       "((30, 4), (70, 4), (30,), (70,))"
      ]
     },
     "execution_count": 68,
     "metadata": {},
     "output_type": "execute_result"
    }
   ],
   "source": [
    "X_train.shape,X_test.shape,y_train.shape,y_test.shape"
   ]
  },
  {
   "cell_type": "code",
   "execution_count": 70,
   "id": "f89726cc",
   "metadata": {},
   "outputs": [],
   "source": [
    "mlp = MLP(4,[10,5,1])"
   ]
  },
  {
   "cell_type": "code",
   "execution_count": 71,
   "id": "186f8c8a",
   "metadata": {},
   "outputs": [
    {
     "name": "stdout",
     "output_type": "stream",
     "text": [
      "Epoch:-  0  , Loss:-  10.15912123868205\n",
      "Epoch:-  100  , Loss:-  0.057909148884709855\n",
      "Epoch:-  200  , Loss:-  0.020843488582233463\n",
      "Epoch:-  300  , Loss:-  0.012622345928394212\n",
      "Epoch:-  400  , Loss:-  0.009056503433395938\n"
     ]
    },
    {
     "data": {
      "text/plain": [
       "[Value(label= data=0.9798558524166964),\n",
       " Value(label= data=0.006302477082816038),\n",
       " Value(label= data=0.9836427809924796),\n",
       " Value(label= data=0.0010658575409127806),\n",
       " Value(label= data=0.9787174545399138),\n",
       " Value(label= data=0.9825471306284344),\n",
       " Value(label= data=0.9833124610137257),\n",
       " Value(label= data=-0.009501417535191957),\n",
       " Value(label= data=0.983843533027984),\n",
       " Value(label= data=0.9838088008011622),\n",
       " Value(label= data=0.9839684500628841),\n",
       " Value(label= data=0.9839930630716244),\n",
       " Value(label= data=-0.010837694164811253),\n",
       " Value(label= data=0.013761385632121263),\n",
       " Value(label= data=-0.006054873508620611),\n",
       " Value(label= data=0.9838425960438782),\n",
       " Value(label= data=0.00831867775562339),\n",
       " Value(label= data=-0.008549085488479763),\n",
       " Value(label= data=0.024520553471045887),\n",
       " Value(label= data=0.9839728156301074),\n",
       " Value(label= data=0.9838811741710917),\n",
       " Value(label= data=0.9832577631119369),\n",
       " Value(label= data=0.9837449361375754),\n",
       " Value(label= data=0.98307231580837),\n",
       " Value(label= data=0.0075760509228252745),\n",
       " Value(label= data=0.9837760739779375),\n",
       " Value(label= data=0.9829915101346425),\n",
       " Value(label= data=-0.018959108947844344),\n",
       " Value(label= data=0.9834786196098784),\n",
       " Value(label= data=0.983586632276407)]"
      ]
     },
     "execution_count": 71,
     "metadata": {},
     "output_type": "execute_result"
    }
   ],
   "source": [
    "train(500,mlp,X_train,y_train)"
   ]
  },
  {
   "cell_type": "code",
   "execution_count": 72,
   "id": "8fe105d0",
   "metadata": {},
   "outputs": [
    {
     "name": "stdout",
     "output_type": "stream",
     "text": [
      "Test Accuracy: 1.00\n"
     ]
    }
   ],
   "source": [
    "correct = 0\n",
    "for x, y in zip(X_test, y_test):\n",
    "    pred = mlp(x).data\n",
    "    pred_class = 1 if pred > 0.5 else 0 \n",
    "    if pred_class == y:\n",
    "        correct += 1\n",
    "\n",
    "accuracy = correct / len(y_test)\n",
    "print(f\"Test Accuracy: {accuracy:.2f}\")\n"
   ]
  }
 ],
 "metadata": {
  "kernelspec": {
   "display_name": "Python 3 (ipykernel)",
   "language": "python",
   "name": "python3"
  },
  "language_info": {
   "codemirror_mode": {
    "name": "ipython",
    "version": 3
   },
   "file_extension": ".py",
   "mimetype": "text/x-python",
   "name": "python",
   "nbconvert_exporter": "python",
   "pygments_lexer": "ipython3",
   "version": "3.10.9"
  }
 },
 "nbformat": 4,
 "nbformat_minor": 5
}
